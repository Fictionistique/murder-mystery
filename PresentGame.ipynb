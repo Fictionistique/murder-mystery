{
 "cells": [
  {
   "cell_type": "code",
   "execution_count": null,
   "id": "29095281-c584-41a3-85c2-f330dad16679",
   "metadata": {},
   "outputs": [],
   "source": [
    "import rooms as r\n",
    "from mechanics import guide\n",
    "guide()\n",
    "r.game()"
   ]
  }
 ],
 "metadata": {
  "kernelspec": {
   "display_name": "Python 3",
   "language": "python",
   "name": "python3"
  },
  "language_info": {
   "codemirror_mode": {
    "name": "ipython",
    "version": 3
   },
   "file_extension": ".py",
   "mimetype": "text/x-python",
   "name": "python",
   "nbconvert_exporter": "python",
   "pygments_lexer": "ipython3",
   "version": "3.9.0"
  }
 },
 "nbformat": 4,
 "nbformat_minor": 5
}
