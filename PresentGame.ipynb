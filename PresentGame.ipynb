{
 "cells": [
  {
   "cell_type": "code",
   "execution_count": 1,
   "id": "29095281-c584-41a3-85c2-f330dad16679",
   "metadata": {},
   "outputs": [
    {
     "name": "stdout",
     "output_type": "stream",
     "text": [
      "Switch rooms:\n",
      "1. Living Room [Judgement Call]\n",
      "2. Bedroom[Fishy Business]\n",
      "3. Servants' Quarter[The Reds]\n",
      "4. Lawn[A Breathe of Fresh Air]\n",
      "5. Bathroom[The Walls Have Ears]\n",
      "There's no going back. Are you sure yo've made a decision and have someone to accuse?\n"
     ]
    }
   ],
   "source": [
    "import rooms as r\n",
    "from mechanics import type_effect,get_choice,guide\n",
    "guide()\n",
    "r.game()"
   ]
  },
  {
   "cell_type": "code",
   "execution_count": null,
   "id": "785649f4-19f9-4e61-b56c-8ae87947a962",
   "metadata": {},
   "outputs": [],
   "source": []
  }
 ],
 "metadata": {
  "kernelspec": {
   "display_name": "Python 3",
   "language": "python",
   "name": "python3"
  },
  "language_info": {
   "codemirror_mode": {
    "name": "ipython",
    "version": 3
   },
   "file_extension": ".py",
   "mimetype": "text/x-python",
   "name": "python",
   "nbconvert_exporter": "python",
   "pygments_lexer": "ipython3",
   "version": "3.9.0"
  }
 },
 "nbformat": 4,
 "nbformat_minor": 5
}
